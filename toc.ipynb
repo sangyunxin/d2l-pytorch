{
 "cells": [
  {
   "cell_type": "markdown",
   "metadata": {},
   "source": [
    "# 目录\n",
    "\n",
    "> 因为 PyTorch 与 MXNet 在实现上存在一些差异，所以某些 MXNet 的概念及操作在 PyTorch 无法实现，故在对相应的章节做了 “ ~~无效章节~~ ” 的标注"
   ]
  },
  {
   "cell_type": "markdown",
   "metadata": {},
   "source": [
    "## [前言](chapter_preface/preface.ipynb)"
   ]
  },
  {
   "cell_type": "markdown",
   "metadata": {},
   "source": [
    "## [1. 深度学习简介](chapter_introduction/deep-learning-intro.ipynb)"
   ]
  },
  {
   "cell_type": "markdown",
   "metadata": {},
   "source": [
    "## 2. 预备知识\n",
    "### 2.1. [获取和运行本书的代码](chapter_prerequisite/install.ipynb)\n",
    "### 2.2. [数据操作](chapter_prerequisite/tensor.ipynb)\n",
    "### 2.3. [自动求梯度](chapter_prerequisite/autograd.ipynb)\n",
    "### 2.4. [查阅文档](chapter_prerequisite/lookup-api.ipynb)"
   ]
  },
  {
   "cell_type": "markdown",
   "metadata": {},
   "source": [
    "## 3. 深度学习基础\n",
    "### 3.1. [线性回归](chapter_deep-learning-basics/linear-regression.ipynb)\n",
    "### 3.2. [线性回归的从零开始实现](chapter_deep-learning-basics/linear-regression-scratch.ipynb)\n",
    "### 3.3. [线性回归的简洁实现](chapter_deep-learning-basics/linear-regression-nn.ipynb)\n",
    "### 3.4. [softmax回归](chapter_deep-learning-basics/softmax-regression.ipynb)\n",
    "### 3.5. [图像分类数据集（Fashion-MNIST）](chapter_deep-learning-basics/fashion-mnist.ipynb)\n",
    "### 3.6. [softmax回归的从零开始实现](chapter_deep-learning-basics/softmax-regression-scratch.ipynb)\n",
    "### 3.7. [softmax回归的简洁实现](chapter_deep-learning-basics/softmax-regression-nn.ipynb)\n",
    "### 3.8. [多层感知机](chapter_deep-learning-basics/mlp.ipynb)\n",
    "### 3.9. [多层感知机的从零开始实现](chapter_deep-learning-basics/mlp-scratch.ipynb)\n",
    "### 3.10. [多层感知机的简洁实现](chapter_deep-learning-basics/mlp-nn.ipynb)\n",
    "### 3.11. [模型选择、欠拟合和过拟合](chapter_deep-learning-basics/underfit-overfit.ipynb)\n",
    "### 3.12. [权重衰减](chapter_deep-learning-basics/weight-decay.ipynb)\n",
    "### 3.13. [丢弃法](chapter_deep-learning-basics/dropout.ipynb)\n",
    "### 3.14. [正向传播、反向传播和计算图](chapter_deep-learning-basics/backprop.ipynb)\n",
    "### 3.15. [数值稳定性和模型初始化](chapter_deep-learning-basics/numerical-stability-and-init.ipynb)\n",
    "### 3.16. [实战Kaggle比赛：房价预测](chapter_deep-learning-basics/kaggle-house-price.ipynb)"
   ]
  },
  {
   "cell_type": "markdown",
   "metadata": {},
   "source": [
    "## 4. 深度学习计算\n",
    "### 4.1. [模型构造](chapter_deep-learning-computation/model-construction.ipynb)\n",
    "### 4.2. [模型参数的访问、初始化和共享](chapter_deep-learning-computation/parameters.ipynb)\n",
    "### ~~4.3. 模型参数的延后初始化~~\n",
    "### 4.4. [自定义层](chapter_deep-learning-computation/custom-layer.ipynb)\n",
    "### 4.5. [读取和存储](chapter_deep-learning-computation/read-write.ipynb)\n",
    "### 4.6. [GPU计算](chapter_deep-learning-computation/use-gpu.ipynb)"
   ]
  },
  {
   "cell_type": "markdown",
   "metadata": {},
   "source": [
    "## 5. 卷积神经网络\n",
    "### 5.1. [二维卷积层](chapter_convolutional-neural-networks/conv-layer.ipynb)\n",
    "### 5.2. [填充和步幅](chapter_convolutional-neural-networks/padding-and-strides.ipynb)\n",
    "### 5.3. [多输入通道和多输出通道](chapter_convolutional-neural-networks/channels.ipynb)\n",
    "### 5.4. [池化层](chapter_convolutional-neural-networks/pooling.ipynb)\n",
    "### 5.5. [卷积神经网络（LeNet）](chapter_convolutional-neural-networks/lenet.ipynb)\n",
    "### 5.6. [深度卷积神经网络（AlexNet）](chapter_convolutional-neural-networks/alexnet.ipynb)\n",
    "### 5.7. [使用重复元素的网络（VGG）](chapter_convolutional-neural-networks/vgg.ipynb)\n",
    "### 5.8. [网络中的网络（NiN）](chapter_convolutional-neural-networks/nin.ipynb)\n",
    "### 5.9. [含并行连结的网络（GoogLeNet）](chapter_convolutional-neural-networks/googlenet.ipynb)\n",
    "### 5.10. [批量归一化](chapter_convolutional-neural-networks/batch-norm.ipynb)\n",
    "### 5.11. [残差网络（ResNet）](chapter_convolutional-neural-networks/resnet.ipynb)\n",
    "### 5.12. [稠密连接网络（DenseNet）](chapter_convolutional-neural-networks/densenet.ipynb)"
   ]
  },
  {
   "cell_type": "markdown",
   "metadata": {},
   "source": [
    "## 6. 循环神经网络\n",
    "### 6.1. [语言模型](chapter_recurrent-neural-networks/lang-model.ipynb)\n",
    "### 6.2. [循环神经网络](chapter_recurrent-neural-networks/rnn.ipynb)\n",
    "### 6.3. [语言模型数据集（周杰伦专辑歌词）](chapter_recurrent-neural-networks/lang-model-dataset.ipynb)\n",
    "### 6.4. [循环神经网络的从零开始实现](chapter_recurrent-neural-networks/rnn-scratch.ipynb)\n",
    "### 6.5. [循环神经网络的简洁实现](chapter_recurrent-neural-networks/rnn-nn.ipynb)\n",
    "### 6.6. [通过时间反向传播](chapter_recurrent-neural-networks/bptt.ipynb)\n",
    "### 6.7. [门控循环单元（GRU）](chapter_recurrent-neural-networks/gru.ipynb)\n",
    "### 6.8. [长短期记忆（LSTM）](chapter_recurrent-neural-networks/lstm.ipynb)\n",
    "### 6.9. [深度循环神经网络](chapter_recurrent-neural-networks/deep-rnn.ipynb)\n",
    "### 6.10. [双向循环神经网络](chapter_recurrent-neural-networks/bi-rnn.ipynb)"
   ]
  },
  {
   "cell_type": "markdown",
   "metadata": {},
   "source": [
    "## 10. 自然语言处理¶\n",
    "### 10.1. [词嵌入（word2vec）](chapter_natural-language-processing/word2vec.ipynb)\n",
    "### 10.2. [近似训练](chapter_natural-language-processing/approx-training.ipynb)\n",
    "### 10.3. [word2vec的实现](chapter_natural-language-processing/word2vec-nn.ipynb)\n",
    "### 10.4. [子词嵌入（fastText）](chapter_natural-language-processing/fasttext.ipynb)\n",
    "### 10.5. [全局向量的词嵌入（GloVe）](chapter_natural-language-processing/glove.ipynb)\n",
    "### 10.6. [求近义词和类比词](chapter_natural-language-processing/similarity-analogy.ipynb)\n",
    "### 10.7. [文本情感分类：使用循环神经网络](chapter_natural-language-processing/sentiment-analysis-rnn.ipynb)\n",
    "### 10.8. [文本情感分类：使用卷积神经网络（textCNN）](chapter_natural-language-processing/sentiment-analysis-cnn.ipynb)\n",
    "### 10.9. [编码器—解码器（seq2seq）](chapter_natural-language-processing/seq2seq.ipynb)\n",
    "### 10.10. [束搜索](chapter_natural-language-processing/beam-search.ipynb)\n",
    "### 10.11. [注意力机制](chapter_natural-language-processing/attention.ipynb)\n",
    "### 10.12. 机器翻译"
   ]
  }
 ],
 "metadata": {
  "kernelspec": {
   "display_name": "Python 3",
   "language": "python",
   "name": "python3"
  },
  "language_info": {
   "codemirror_mode": {
    "name": "ipython",
    "version": 3
   },
   "file_extension": ".py",
   "mimetype": "text/x-python",
   "name": "python",
   "nbconvert_exporter": "python",
   "pygments_lexer": "ipython3",
   "version": "3.6.8"
  },
  "toc": {
   "base_numbering": 1,
   "nav_menu": {},
   "number_sections": false,
   "sideBar": true,
   "skip_h1_title": false,
   "title_cell": "Table of Contents",
   "title_sidebar": "Contents",
   "toc_cell": false,
   "toc_position": {
    "height": "calc(100% - 180px)",
    "left": "10px",
    "top": "150px",
    "width": "256px"
   },
   "toc_section_display": true,
   "toc_window_display": false
  }
 },
 "nbformat": 4,
 "nbformat_minor": 2
}
